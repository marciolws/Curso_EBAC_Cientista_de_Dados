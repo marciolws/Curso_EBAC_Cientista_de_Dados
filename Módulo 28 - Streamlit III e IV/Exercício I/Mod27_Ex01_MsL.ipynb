{
 "cells": [
  {
   "cell_type": "markdown",
   "metadata": {},
   "source": [
    "![https://raw.githubusercontent.com/marciolws/Curso_EBAC_Cientista_de_Dados/refs/heads/main/EBAC-media-utils/logo/ebac_logo-data_science.png](https://raw.githubusercontent.com/marciolws/Curso_EBAC_Cientista_de_Dados/refs/heads/main/EBAC-media-utils/logo/ebac_logo-data_science.png)"
   ]
  },
  {
   "cell_type": "markdown",
   "metadata": {},
   "source": [
    "---\n",
    "\n",
    "<!-- # **Profissão: Cientista de Dados** -->\n",
    "### **Módulo 27** | PCA | Exercício I\n",
    "\n",
    "**Aluno:** [Marcio da Silva](https://www.linkedin.com/in/marcio-d-silva/)<br>\n",
    "**Data:** 09 de outubro de 2024.\n",
    "\n",
    "---\n"
   ]
  },
  {
   "cell_type": "markdown",
   "metadata": {},
   "source": [
    "# PCA - Tarefa 01: *HAR* com PCA\n",
    "\n",
    "Vamos trabalhar com a base da demonstração feita em aula, mas vamos explorar um pouco melhor como é o desempenho da árvore variando o número de componentes principais."
   ]
  },
  {
   "cell_type": "code",
   "execution_count": 1,
   "metadata": {},
   "outputs": [],
   "source": [
    "import pandas as pd\n",
    "\n",
    "from sklearn.tree import DecisionTreeClassifier\n",
    "\n",
    "from sklearn.decomposition import PCA\n",
    "from sklearn.metrics import accuracy_score\n",
    "from sklearn.model_selection import cross_val_score\n",
    "from sklearn.model_selection import GridSearchCV\n"
   ]
  },
  {
   "cell_type": "code",
   "execution_count": 4,
   "metadata": {},
   "outputs": [
    {
     "name": "stderr",
     "output_type": "stream",
     "text": [
      "/var/folders/0w/j12vvsfd1191gn6cm0rsqyn40000gn/T/ipykernel_5952/35656892.py:13: FutureWarning: The 'delim_whitespace' keyword in pd.read_csv is deprecated and will be removed in a future version. Use ``sep='\\s+'`` instead\n",
      "  labels = pd.read_csv(filename_labels, delim_whitespace=True, header=None, names=['cod_label', 'label'])\n",
      "/var/folders/0w/j12vvsfd1191gn6cm0rsqyn40000gn/T/ipykernel_5952/35656892.py:16: FutureWarning: The 'delim_whitespace' keyword in pd.read_csv is deprecated and will be removed in a future version. Use ``sep='\\s+'`` instead\n",
      "  X_train = pd.read_csv(filename_xtrain, delim_whitespace=True, header=None, names=features.tolist())\n",
      "/var/folders/0w/j12vvsfd1191gn6cm0rsqyn40000gn/T/ipykernel_5952/35656892.py:20: FutureWarning: The 'delim_whitespace' keyword in pd.read_csv is deprecated and will be removed in a future version. Use ``sep='\\s+'`` instead\n",
      "  X_test = pd.read_csv(ffilename_xtest, delim_whitespace=True, header=None, names=features.tolist())\n"
     ]
    }
   ],
   "source": [
    "filename_features = \"UCI HAR Dataset/features.txt\"\n",
    "filename_labels = \"UCI HAR Dataset/activity_labels.txt\"\n",
    "\n",
    "filename_subtrain = \"/Users/marciolewis/Library/Mobile Documents/com~apple~CloudDocs/EBAC_EXERCICIOS/Módulo 27 - PCA/UCI HAR Dataset/train/subject_train.txt\"\n",
    "filename_xtrain = \"/Users/marciolewis/Library/Mobile Documents/com~apple~CloudDocs/EBAC_EXERCICIOS/Módulo 27 - PCA/UCI HAR Dataset/train/X_train.txt\"\n",
    "filename_ytrain = \"/Users/marciolewis/Library/Mobile Documents/com~apple~CloudDocs/EBAC_EXERCICIOS/Módulo 27 - PCA/UCI HAR Dataset/train/y_train.txt\"\n",
    "\n",
    "filename_subtest = \"/Users/marciolewis/Library/Mobile Documents/com~apple~CloudDocs/EBAC_EXERCICIOS/Módulo 27 - PCA/UCI HAR Dataset/test/subject_test.txt\"\n",
    "ffilename_xtest = \"/Users/marciolewis/Library/Mobile Documents/com~apple~CloudDocs/EBAC_EXERCICIOS/Módulo 27 - PCA/UCI HAR Dataset/test/X_test.txt\"\n",
    "filename_ytest = \"/Users/marciolewis/Library/Mobile Documents/com~apple~CloudDocs/EBAC_EXERCICIOS/Módulo 27 - PCA/UCI HAR Dataset/test/y_test.txt\"\n",
    "\n",
    "features = pd.read_csv(filename_features, header=None, names=['nome_var'], sep=\"#\").squeeze('columns')\n",
    "labels = pd.read_csv(filename_labels, delim_whitespace=True, header=None, names=['cod_label', 'label'])\n",
    "\n",
    "subject_train = pd.read_csv(filename_subtrain, header=None, names=['subject_id'], sep=\"#\").squeeze('columns')\n",
    "X_train = pd.read_csv(filename_xtrain, delim_whitespace=True, header=None, names=features.tolist())\n",
    "y_train = pd.read_csv(filename_ytrain, header=None, names=['cod_label'])\n",
    "\n",
    "subject_test = pd.read_csv(filename_subtest, header=None, names=['subject_id'], sep=\"#\").squeeze('columns')\n",
    "X_test = pd.read_csv(ffilename_xtest, delim_whitespace=True, header=None, names=features.tolist())\n",
    "y_test = pd.read_csv(filename_ytest, header=None, names=['cod_label'])"
   ]
  },
  {
   "cell_type": "markdown",
   "metadata": {},
   "source": [
    "## Árvore de decisão\n",
    "\n",
    "Rode uma árvore de decisão com todas as variáveis, utilizando o ```ccp_alpha=0.001```. Avalie a acurácia nas bases de treinamento e teste. Avalie o tempo de processamento."
   ]
  },
  {
   "cell_type": "code",
   "execution_count": 9,
   "metadata": {},
   "outputs": [
    {
     "name": "stdout",
     "output_type": "stream",
     "text": [
      "A acurácia na base de treinamento foi de: 0.9757889009793254\n",
      "A acurácia na base de teste foi de: 0.8815744825246012\n",
      "CPU times: user 4.72 s, sys: 39.1 ms, total: 4.76 s\n",
      "Wall time: 4.95 s\n"
     ]
    }
   ],
   "source": [
    "%%time\n",
    "#Medição do tempo de processamento da arvore.\n",
    "\n",
    "#Criando o calssificador da arvore de decisão com o ccp_aplha=0.001.\n",
    "clf = DecisionTreeClassifier(ccp_alpha=0.001)\n",
    "\n",
    "#Treinando o classificador com os dados de treino.\n",
    "clf.fit(X_train, y_train)\n",
    "\n",
    "#Avaliação da acurácia nos dados de treinamento.\n",
    "print(f'A acurácia na base de treinamento foi de: {clf.score(X_train, y_train)}')\n",
    "#Avaliação da acurácia nos dados de teste.\n",
    "print(f'A acurácia na base de teste foi de: {clf.score(X_test, y_test)}')\n"
   ]
  },
  {
   "cell_type": "markdown",
   "metadata": {},
   "source": [
    "## Árvore com PCA\n",
    "\n",
    "Faça uma análise de componemtes principais das variáveis originais. Utilize apenas uma componente. Faça uma árvore de decisão com esta componente como variável explicativa.\n",
    "\n",
    "- Avalie a acurácia nas bases de treinamento e teste\n",
    "- Avalie o tempo de processamento"
   ]
  },
  {
   "cell_type": "code",
   "execution_count": 24,
   "metadata": {},
   "outputs": [
    {
     "name": "stdout",
     "output_type": "stream",
     "text": [
      "A dimenssão da base de dados de treinamento foi de: (7352, 1)\n",
      "A dimenssão da base de dados de teste foi de: (2947, 1)\n",
      "A dimenssão da base de dados de treinamento foi de: 0.499727965179543\n",
      "A dimenssão da base de dados de teste foi de: 0.45707499151679676\n",
      "\n",
      "CPU times: user 279 ms, sys: 25.3 ms, total: 305 ms\n",
      "Wall time: 265 ms\n"
     ]
    }
   ],
   "source": [
    "%%time\n",
    "\n",
    "#Determinando o PCA com 1 comoponente para os dados de treinamento.\n",
    "prcomp = PCA(n_components=1).fit(X_train)\n",
    "\n",
    "#Transformando os dados de treinamento e teste com os componentes encontrados pelo PCA.\n",
    "pc_treino = prcomp.transform(X_train)\n",
    "pc_teste = prcomp.transform(X_test)\n",
    "\n",
    "print(f'A dimenssão da base de dados de treinamento foi de: {pc_treino.shape}')\n",
    "print(f'A dimenssão da base de dados de teste foi de: {pc_teste.shape}')\n",
    "\n",
    "clf = DecisionTreeClassifier(ccp_alpha=0.001)\n",
    "clf.fit(pc_treino, y_train)\n",
    "\n",
    "print(f'A dimenssão da base de dados de treinamento foi de: {clf.score(pc_treino, y_train)}')\n",
    "print(f'A dimenssão da base de dados de teste foi de: {clf.score(pc_teste, y_test)}\\n')"
   ]
  },
  {
   "cell_type": "markdown",
   "metadata": {},
   "source": [
    "## Testando o número de componentes\n",
    "\n",
    "Com base no código acima, teste a árvore de classificação com pelo menos as seguintes possibilidades de quantidades de componentes: ```[1, 2, 5, 10, 50]```. Avalie para cada uma delas:\n",
    "\n",
    "- Acurácia nas bases de treino e teste\n",
    "- Tempo de processamento\n"
   ]
  },
  {
   "cell_type": "code",
   "execution_count": 28,
   "metadata": {},
   "outputs": [
    {
     "name": "stdout",
     "output_type": "stream",
     "text": [
      "Dimensões da base de treinamento: (7352, 1)\n",
      "Dimensões da base de teste: (2947, 1)\n",
      "Acurácia na base de treinamento: 0.499727965179543\n",
      "Acurácia na base de teste: 0.45707499151679676\n",
      "\n",
      "Dimensões da base de treinamento: (7352, 2)\n",
      "Dimensões da base de teste: (2947, 2)\n",
      "Acurácia na base de treinamento: 0.6127584330794341\n",
      "Acurácia na base de teste: 0.5846623685103495\n",
      "\n",
      "Dimensões da base de treinamento: (7352, 5)\n",
      "Dimensões da base de teste: (2947, 5)\n",
      "Acurácia na base de treinamento: 0.8460282916213275\n",
      "Acurácia na base de teste: 0.7885985748218527\n",
      "\n",
      "Dimensões da base de treinamento: (7352, 10)\n",
      "Dimensões da base de teste: (2947, 10)\n",
      "Acurácia na base de treinamento: 0.8926822633297062\n",
      "Acurácia na base de teste: 0.8242280285035629\n",
      "\n",
      "Dimensões da base de treinamento: (7352, 50)\n",
      "Dimensões da base de teste: (2947, 50)\n",
      "Acurácia na base de treinamento: 0.919341675734494\n",
      "Acurácia na base de teste: 0.822870715982355\n",
      "\n",
      "CPU times: user 2.12 s, sys: 149 ms, total: 2.27 s\n",
      "Wall time: 1.44 s\n"
     ]
    }
   ],
   "source": [
    "%%time\n",
    "\n",
    "componentes = [1, 2, 5, 10, 50]\n",
    "\n",
    "# Loop sobre os diferentes números de componentes\n",
    "for n in componentes:\n",
    "    # Executa o PCA com o número de componentes atual\n",
    "    prcomp = PCA(n_components=n).fit(X_train)\n",
    "\n",
    "    # Transforma os dados de treinamento e teste nos componentes principais\n",
    "    pc_treino = prcomp.transform(X_train)\n",
    "    pc_teste  = prcomp.transform(X_test)\n",
    "\n",
    "    # Imprime as dimensões dos dados transformados\n",
    "    print(f'Dimensões da base de treinamento: {pc_treino.shape}')\n",
    "    print(f'Dimensões da base de teste: {pc_teste.shape}')\n",
    "\n",
    "    # Cria e treina um classificador de árvore de decisão\n",
    "    clf = DecisionTreeClassifier(ccp_alpha=0.001)\n",
    "    clf.fit(pc_treino, y_train)\n",
    "\n",
    "    # Avalia a acurácia na base de treinamento e teste\n",
    "    print(f'Acurácia na base de treinamento: {clf.score(pc_treino, y_train)}')\n",
    "    print(f'Acurácia na base de teste: {clf.score(pc_teste, y_test)}\\n')"
   ]
  },
  {
   "cell_type": "markdown",
   "metadata": {},
   "source": [
    "## Conclua\n",
    "\n",
    "- O que aconteceu com a acurácia?\n",
    "- O que aconteceu com o tempo de processamento?"
   ]
  },
  {
   "cell_type": "markdown",
   "metadata": {},
   "source": [
    "> Com a redução da dimensionalidade utilizando a técnica de Análise de Componentes Principais (PCA), podemos observar que a principal mudança ocorre em relação ao tempo de processamento. A árvore executada com o conjunto de dados completo contendo todas as 561 variáveis, levou aproximadamente 4,9 segundos para ser executada, resultando em uma acurácia de 88% na base de teste. No entanto, ao utilizar o PCA com apenas um componente, o tempo de processamento foi reduzido para pouco menos de 300 ms, porém a acurácia na base de testes foi de 45%.\n",
    "\n",
    "> Aumentando o número de componentes, foi possível aumentar gradualmente a acurácia na base de testes. Com 50 componentes, foi atingida uma acurácia de até 83%, com um tempo de processamento de aproximadamente 2 segundos para executar todas as 5 combinações de números diferentes de componentes. Portanto, podemos concluir que é possível obter uma acurácia semelhante à árvore com todas as variáveis do conjunto de dados, porém com um tempo de processamento reduzido em menos da metade. É importante ressaltar que os componentes são formados a partir da combinação linear das variáveis originais."
   ]
  }
 ],
 "metadata": {
  "kernelspec": {
   "display_name": "Python 3",
   "language": "python",
   "name": "python3"
  },
  "language_info": {
   "codemirror_mode": {
    "name": "ipython",
    "version": 3
   },
   "file_extension": ".py",
   "mimetype": "text/x-python",
   "name": "python",
   "nbconvert_exporter": "python",
   "pygments_lexer": "ipython3",
   "version": "3.12.6"
  },
  "toc": {
   "base_numbering": 1,
   "nav_menu": {},
   "number_sections": true,
   "sideBar": true,
   "skip_h1_title": true,
   "title_cell": "Índice",
   "title_sidebar": "Conteúdo",
   "toc_cell": false,
   "toc_position": {},
   "toc_section_display": true,
   "toc_window_display": false
  },
  "varInspector": {
   "cols": {
    "lenName": 16,
    "lenType": 16,
    "lenVar": 40
   },
   "kernels_config": {
    "python": {
     "delete_cmd_postfix": "",
     "delete_cmd_prefix": "del ",
     "library": "var_list.py",
     "varRefreshCmd": "print(var_dic_list())"
    },
    "r": {
     "delete_cmd_postfix": ") ",
     "delete_cmd_prefix": "rm(",
     "library": "var_list.r",
     "varRefreshCmd": "cat(var_dic_list()) "
    }
   },
   "types_to_exclude": [
    "module",
    "function",
    "builtin_function_or_method",
    "instance",
    "_Feature"
   ],
   "window_display": false
  }
 },
 "nbformat": 4,
 "nbformat_minor": 4
}

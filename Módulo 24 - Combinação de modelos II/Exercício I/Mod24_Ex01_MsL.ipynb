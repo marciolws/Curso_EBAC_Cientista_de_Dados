{
 "cells": [
  {
   "cell_type": "markdown",
   "metadata": {},
   "source": [
    "![https://raw.githubusercontent.com/marciolws/Curso_EBAC_Cientista_de_Dados/refs/heads/main/EBAC-media-utils/logo/ebac_logo-data_science.png](https://raw.githubusercontent.com/marciolws/Curso_EBAC_Cientista_de_Dados/refs/heads/main/EBAC-media-utils/logo/ebac_logo-data_science.png)"
   ]
  },
  {
   "cell_type": "markdown",
   "metadata": {},
   "source": [
    "<!-- # **Profissão: Cientista de Dados** -->\n",
    "### **Módulo 24** | Combinação de modelos II | Exercício 1\n",
    "\n",
    "**Aluno:** [Marcio da Silva](https://www.linkedin.com/in/marciolws/)<br>\n",
    "**Data:** 04 de outubro de 2024.\n"
   ]
  },
  {
   "cell_type": "markdown",
   "metadata": {},
   "source": [
    "## Tarefa 1"
   ]
  },
  {
   "cell_type": "markdown",
   "metadata": {},
   "source": [
    "1. Cite 5 diferenças entre o Random Forest e o AdaBoost:"
   ]
  },
  {
   "cell_type": "markdown",
   "metadata": {},
   "source": [
    "| Diferenças | Random Forest | AdaBoost|\n",
    "| --- | --- | --- |\n",
    "| 1 | Utiliza múltiplas árvores de decisão como base. Cada árvore é construída de forma aleatória, selecionando um subconjunto aleatório de features e amostras do conjunto de dados original. | Também utiliza múltiplos modelos base, mas geralmente são árvores de decisão simples (stumps). A cada iteração, o algoritmo ajusta os pesos das amostras, dando mais importância aos exemplos classificados incorretamente pelos modelos anteriores. |\n",
    "| 2 | As árvores de decisão são construídas em paralelo e de forma independente. Não há interação entre elas. | As árvores de decisão são construídas sequencialmente. Cada árvore é construída com base no desempenho das árvores anteriores, ajustando os pesos das amostras para corrigir os erros. |\n",
    "| 3 | Cada árvore de decisão \"vota\" na classe final. A classe com mais votos é a predição final. O algoritmo é robusto a outliers e ruído nos dados. | O algoritmo foca em corrigir os erros cometidos pelos modelos anteriores, dando mais peso às amostras mal classificadas. Isso pode levar a um overfitting se não for bem ajustado. |\n",
    "| 4 | Pode gerar modelos complexos, especialmente quando o número de árvores aumenta. A complexidade pode ser controlada ajustando o número máximo de profundidade das árvores. | Geralmente gera modelos mais simples, pois as árvores base são stumps. A complexidade pode ser controlada ajustando o número de iterações. |\n",
    "| 5 | É mais robusto a outliers devido à aleatoriedade na construção das árvores. | Pode ser mais sensível a outliers, pois o algoritmo tenta corrigir todos os erros, incluindo aqueles causados por outliers. |"
   ]
  },
  {
   "cell_type": "markdown",
   "metadata": {},
   "source": [
    "2. Acesse o link Scikit-learn – adaboost, leia a explicação (traduza se for preciso) e crie um jupyter notebook contendo o exemplo do AdaBoost."
   ]
  },
  {
   "cell_type": "code",
   "execution_count": 1,
   "metadata": {},
   "outputs": [],
   "source": [
    "from sklearn.model_selection import cross_val_score\n",
    "from sklearn.datasets import load_iris\n",
    "from sklearn.ensemble import AdaBoostClassifier"
   ]
  },
  {
   "cell_type": "code",
   "execution_count": 8,
   "metadata": {},
   "outputs": [
    {
     "data": {
      "text/plain": [
       "np.float64(0.9533333333333334)"
      ]
     },
     "execution_count": 8,
     "metadata": {},
     "output_type": "execute_result"
    }
   ],
   "source": [
    "X, y   = load_iris(return_X_y=True)\n",
    "\n",
    "clf    = AdaBoostClassifier(n_estimators=100,  algorithm=\"SAMME\")\n",
    "\n",
    "scores = cross_val_score(estimator=clf, \n",
    "                         X=X, \n",
    "                         y=y, \n",
    "                         cv=5)\n",
    "\n",
    "scores.mean()"
   ]
  },
  {
   "cell_type": "markdown",
   "metadata": {},
   "source": [
    "3. Cite 5 Hyperparametros importantes no AdaBoost."
   ]
  },
  {
   "cell_type": "markdown",
   "metadata": {},
   "source": [
    "> **1. `n_estimators`**: Número máximo de iterações para finalizar o processo de aprendizagem. Pode ser interrompido antes deste limite caso seja considerado perfeito. Quanto maior o número de estimadores, maior será o tempo de treinamento.\n",
    ">> Quantidade de *Stumps*.\n",
    ">\n",
    ">**2. `estimator`**: Classificador base para criar os *weak/base learners (Stumps)*. Por padrão o estimador base é o algoritmo de árvore de decisão `DecisionTreeClassifier(max_depth=1)`.\n",
    ">> Sucessor do hiperparâmetro descontinuado `base_estimator`. \n",
    ">\n",
    "> **3. `learning_rate`**: Valor do peso aplicado a cada classificador nas iterações de reforço. A relevância dos *Stumps* pode aumentar conforme essa definição, podendo haver uma compensação entre este hiperparâmetro e o *n_estimator*.\n",
    ">> Taxa de aprendizado do *AdaBoost*.\n",
    ">\n",
    "> **4. `algorithm (AdaBoostClassifier)`**: Define o algoritmo utilizado para atualizar os pesos dos exemplos durante o treinamento. \n",
    ">> Pode ser `SAMME` (*Discrete AdaBoost*) ou `SAMME.R` (*Real AdaBoost*), onde `SAMME.R` é recomendado para melhor desempenho.\n",
    ">\n",
    "> **5. `loss (AdaBoostRegressor)`**: Assim como o hiperparâmetro *algorithm*, porém em problemas de regressão, este hiperparâmetro define a \"função de perda\" a ser usada ao atualizar os pesos após cada iteração de reforço.\n",
    ">> Pode ser 'linear', 'square' ou 'exponential', tendo 'linear' como padrão."
   ]
  },
  {
   "cell_type": "markdown",
   "metadata": {},
   "source": [
    "4. Utilize o GridSearch para encontrar os melhores hyperparametros para o conjunto de dados do exemplo (load_iris)"
   ]
  },
  {
   "cell_type": "code",
   "execution_count": 19,
   "metadata": {},
   "outputs": [],
   "source": [
    "import pandas as pd"
   ]
  },
  {
   "cell_type": "code",
   "execution_count": 20,
   "metadata": {},
   "outputs": [
    {
     "name": "stdout",
     "output_type": "stream",
     "text": [
      "CPU times: user 56.4 s, sys: 524 ms, total: 56.9 s\n",
      "Wall time: 57.3 s\n"
     ]
    },
    {
     "data": {
      "text/html": [
       "<div>\n",
       "<style scoped>\n",
       "    .dataframe tbody tr th:only-of-type {\n",
       "        vertical-align: middle;\n",
       "    }\n",
       "\n",
       "    .dataframe tbody tr th {\n",
       "        vertical-align: top;\n",
       "    }\n",
       "\n",
       "    .dataframe thead th {\n",
       "        text-align: right;\n",
       "    }\n",
       "</style>\n",
       "<table border=\"1\" class=\"dataframe\">\n",
       "  <thead>\n",
       "    <tr style=\"text-align: right;\">\n",
       "      <th></th>\n",
       "      <th>n_estimators</th>\n",
       "      <th>mean_score</th>\n",
       "    </tr>\n",
       "  </thead>\n",
       "  <tbody>\n",
       "    <tr>\n",
       "      <th>0</th>\n",
       "      <td>1</td>\n",
       "      <td>0.666667</td>\n",
       "    </tr>\n",
       "    <tr>\n",
       "      <th>1</th>\n",
       "      <td>101</td>\n",
       "      <td>0.960000</td>\n",
       "    </tr>\n",
       "    <tr>\n",
       "      <th>2</th>\n",
       "      <td>201</td>\n",
       "      <td>0.953333</td>\n",
       "    </tr>\n",
       "    <tr>\n",
       "      <th>3</th>\n",
       "      <td>301</td>\n",
       "      <td>0.953333</td>\n",
       "    </tr>\n",
       "    <tr>\n",
       "      <th>4</th>\n",
       "      <td>401</td>\n",
       "      <td>0.953333</td>\n",
       "    </tr>\n",
       "    <tr>\n",
       "      <th>5</th>\n",
       "      <td>501</td>\n",
       "      <td>0.953333</td>\n",
       "    </tr>\n",
       "    <tr>\n",
       "      <th>6</th>\n",
       "      <td>601</td>\n",
       "      <td>0.953333</td>\n",
       "    </tr>\n",
       "    <tr>\n",
       "      <th>7</th>\n",
       "      <td>701</td>\n",
       "      <td>0.953333</td>\n",
       "    </tr>\n",
       "    <tr>\n",
       "      <th>8</th>\n",
       "      <td>801</td>\n",
       "      <td>0.953333</td>\n",
       "    </tr>\n",
       "    <tr>\n",
       "      <th>9</th>\n",
       "      <td>901</td>\n",
       "      <td>0.953333</td>\n",
       "    </tr>\n",
       "    <tr>\n",
       "      <th>10</th>\n",
       "      <td>1001</td>\n",
       "      <td>0.953333</td>\n",
       "    </tr>\n",
       "  </tbody>\n",
       "</table>\n",
       "</div>"
      ],
      "text/plain": [
       "    n_estimators  mean_score\n",
       "0              1    0.666667\n",
       "1            101    0.960000\n",
       "2            201    0.953333\n",
       "3            301    0.953333\n",
       "4            401    0.953333\n",
       "5            501    0.953333\n",
       "6            601    0.953333\n",
       "7            701    0.953333\n",
       "8            801    0.953333\n",
       "9            901    0.953333\n",
       "10          1001    0.953333"
      ]
     },
     "execution_count": 20,
     "metadata": {},
     "output_type": "execute_result"
    }
   ],
   "source": [
    "%%time\n",
    "\n",
    "estimators = list(range(1, 1002, 100))\n",
    "\n",
    "n_estimators = []\n",
    "mean_scores  = []\n",
    "\n",
    "for n in estimators:\n",
    "    clf    = AdaBoostClassifier(n_estimators=n, algorithm=\"SAMME\")\n",
    "    scores = cross_val_score(estimator=clf, \n",
    "                             X=X, \n",
    "                             y=y, \n",
    "                             cv=5)\n",
    "    n_estimators.append(n)\n",
    "    mean_scores.append(scores.mean())\n",
    "\n",
    "pd.DataFrame(data=list(zip(n_estimators, mean_scores)), \n",
    "             columns=['n_estimators', 'mean_score'])"
   ]
  }
 ],
 "metadata": {
  "kernelspec": {
   "display_name": "Python 3",
   "language": "python",
   "name": "python3"
  },
  "language_info": {
   "codemirror_mode": {
    "name": "ipython",
    "version": 3
   },
   "file_extension": ".py",
   "mimetype": "text/x-python",
   "name": "python",
   "nbconvert_exporter": "python",
   "pygments_lexer": "ipython3",
   "version": "3.12.6"
  },
  "toc": {
   "base_numbering": 1,
   "nav_menu": {},
   "number_sections": false,
   "sideBar": true,
   "skip_h1_title": true,
   "title_cell": "Índice",
   "title_sidebar": "Conteúdo",
   "toc_cell": false,
   "toc_position": {},
   "toc_section_display": true,
   "toc_window_display": false
  },
  "varInspector": {
   "cols": {
    "lenName": 16,
    "lenType": 16,
    "lenVar": 40
   },
   "kernels_config": {
    "python": {
     "delete_cmd_postfix": "",
     "delete_cmd_prefix": "del ",
     "library": "var_list.py",
     "varRefreshCmd": "print(var_dic_list())"
    },
    "r": {
     "delete_cmd_postfix": ") ",
     "delete_cmd_prefix": "rm(",
     "library": "var_list.r",
     "varRefreshCmd": "cat(var_dic_list()) "
    }
   },
   "types_to_exclude": [
    "module",
    "function",
    "builtin_function_or_method",
    "instance",
    "_Feature"
   ],
   "window_display": false
  }
 },
 "nbformat": 4,
 "nbformat_minor": 4
}

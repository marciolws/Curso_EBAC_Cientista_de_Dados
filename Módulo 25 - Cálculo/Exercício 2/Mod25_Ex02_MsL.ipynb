{
 "cells": [
  {
   "cell_type": "markdown",
   "metadata": {},
   "source": [
    "![https://raw.githubusercontent.com/marciolws/Curso_EBAC_Cientista_de_Dados/refs/heads/main/EBAC-media-utils/logo/ebac_logo-data_science.png](https://raw.githubusercontent.com/marciolws/Curso_EBAC_Cientista_de_Dados/refs/heads/main/EBAC-media-utils/logo/ebac_logo-data_science.png)"
   ]
  },
  {
   "cell_type": "markdown",
   "metadata": {},
   "source": [
    "-----------------\n",
    "<!-- # **Profissão: Cientista de Dados** -->\n",
    "### **Módulo 25** | Cálculo | Exercício II\n",
    "\n",
    "**Aluno:** [Marcio da Silva](https://www.linkedin.com/in/marciolws/)<br>\n",
    "**Data:** 06 de outubro de 2024.\n",
    "\n",
    "-----------------"
   ]
  },
  {
   "cell_type": "markdown",
   "metadata": {},
   "source": [
    "## Cálculo - Tarefa 02"
   ]
  },
  {
   "cell_type": "markdown",
   "metadata": {},
   "source": [
    "### 1- Calcule de forma numérica a integral da função $x^3$ avaliada entre os pontos $1$ e $2$. Identifique o número de retângulos que você usou.  \n"
   ]
  },
  {
   "cell_type": "code",
   "execution_count": 1,
   "metadata": {},
   "outputs": [],
   "source": [
    "import numpy as np"
   ]
  },
  {
   "cell_type": "code",
   "execution_count": 16,
   "metadata": {},
   "outputs": [],
   "source": [
    "f = lambda x: x**3\n",
    "\n",
    "def calc_area(a:int, b:int, func:callable, n_ret:int) -> float:\n",
    "    delta = (b - a) / n_ret\n",
    "    x_cols = np.linspace(a, b - delta, n_ret) + delta / 2\n",
    "    y_cols = func(x_cols)\n",
    "\n",
    "    print(f'Numero de retangulos = {n_ret}')\n",
    "    print(f'Delta = {delta}')\n",
    "\n",
    "    return sum(delta * y_cols)"
   ]
  },
  {
   "cell_type": "code",
   "execution_count": 23,
   "metadata": {},
   "outputs": [
    {
     "name": "stdout",
     "output_type": "stream",
     "text": [
      "Numero de retangulos = 1\n",
      "Delta = 1.0\n"
     ]
    },
    {
     "data": {
      "text/plain": [
       "np.float64(3.375)"
      ]
     },
     "execution_count": 23,
     "metadata": {},
     "output_type": "execute_result"
    }
   ],
   "source": [
    "calc_area(a=1, b=2, func=f, n_ret=1)"
   ]
  },
  {
   "cell_type": "code",
   "execution_count": 26,
   "metadata": {},
   "outputs": [
    {
     "name": "stdout",
     "output_type": "stream",
     "text": [
      "Numero de retangulos = 20\n",
      "Delta = 0.05\n"
     ]
    },
    {
     "data": {
      "text/plain": [
       "np.float64(3.7490624999999995)"
      ]
     },
     "execution_count": 26,
     "metadata": {},
     "output_type": "execute_result"
    }
   ],
   "source": [
    "calc_area(a=1, b=2, func=f, n_ret=20)"
   ]
  },
  {
   "cell_type": "code",
   "execution_count": 18,
   "metadata": {},
   "outputs": [
    {
     "name": "stdout",
     "output_type": "stream",
     "text": [
      "Numero de retangulos = 100\n",
      "Delta = 0.01\n"
     ]
    },
    {
     "data": {
      "text/plain": [
       "np.float64(3.7499624999999996)"
      ]
     },
     "execution_count": 18,
     "metadata": {},
     "output_type": "execute_result"
    }
   ],
   "source": [
    "calc_area(a=1, b=2, func=f, n_ret=100)"
   ]
  },
  {
   "cell_type": "markdown",
   "metadata": {},
   "source": [
    "### 2- Calcule essa área de forma analítica."
   ]
  },
  {
   "cell_type": "markdown",
   "metadata": {},
   "source": [
    "$$\\int_{a}^{b} f(x) dx = F(b) - F(a)$$\n",
    "\n",
    "$$ f(x) = x^3 \\rightarrow F(x) = \\frac{1}{4} * x^4 + C,$$\n",
    "\n",
    "$$\\int_{1}^{2} x^3 dx = F(2) - F(1) = \\left(\\frac{1}{4} * 2^4\\right) - \\left(\\frac{1}{4} * 1^4\\right) = \\frac{16}{4} - \\frac{1}{4} = \\frac{15}{4} = \\textbf{3.75}$$"
   ]
  }
 ],
 "metadata": {
  "kernelspec": {
   "display_name": "Python 3",
   "language": "python",
   "name": "python3"
  },
  "language_info": {
   "codemirror_mode": {
    "name": "ipython",
    "version": 3
   },
   "file_extension": ".py",
   "mimetype": "text/x-python",
   "name": "python",
   "nbconvert_exporter": "python",
   "pygments_lexer": "ipython3",
   "version": "3.12.6"
  },
  "toc": {
   "base_numbering": 1,
   "nav_menu": {},
   "number_sections": true,
   "sideBar": true,
   "skip_h1_title": true,
   "title_cell": "Índice",
   "title_sidebar": "Conteúdo",
   "toc_cell": false,
   "toc_position": {},
   "toc_section_display": true,
   "toc_window_display": false
  },
  "varInspector": {
   "cols": {
    "lenName": 16,
    "lenType": 16,
    "lenVar": 40
   },
   "kernels_config": {
    "python": {
     "delete_cmd_postfix": "",
     "delete_cmd_prefix": "del ",
     "library": "var_list.py",
     "varRefreshCmd": "print(var_dic_list())"
    },
    "r": {
     "delete_cmd_postfix": ") ",
     "delete_cmd_prefix": "rm(",
     "library": "var_list.r",
     "varRefreshCmd": "cat(var_dic_list()) "
    }
   },
   "types_to_exclude": [
    "module",
    "function",
    "builtin_function_or_method",
    "instance",
    "_Feature"
   ],
   "window_display": false
  }
 },
 "nbformat": 4,
 "nbformat_minor": 4
}

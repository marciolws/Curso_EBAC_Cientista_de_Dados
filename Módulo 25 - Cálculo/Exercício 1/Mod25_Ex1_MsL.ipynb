{
 "cells": [
  {
   "cell_type": "markdown",
   "metadata": {},
   "source": [
    "![https://raw.githubusercontent.com/marciolws/Curso_EBAC_Cientista_de_Dados/refs/heads/main/EBAC-media-utils/logo/ebac_logo-data_science.png](https://raw.githubusercontent.com/marciolws/Curso_EBAC_Cientista_de_Dados/refs/heads/main/EBAC-media-utils/logo/ebac_logo-data_science.png)"
   ]
  },
  {
   "cell_type": "markdown",
   "metadata": {},
   "source": [
    "<!-- # **Profissão: Cientista de Dados** -->\n",
    "### **Módulo 25** | Cálculo | Exercício I\n",
    "\n",
    "**Aluno:** [Marcio da Silva](https://www.linkedin.com/in/marciolws/)<br>\n",
    "**Data:** 06 de outubro de 2024.\n"
   ]
  },
  {
   "cell_type": "markdown",
   "metadata": {},
   "source": [
    "# Cálculo - Tarefa 01\n",
    "\n",
    "1. Marque quais desses métodos/algoritmos muito populares em ciência de dados são baseados no uso de derivada:\n",
    "\n",
    "    1. Método Mínimos Quadrados\n",
    "    2. Gradiente descendente\n",
    "    3. Newton Raphson\n",
    "    4. CART (Árvore de decisão)"
   ]
  },
  {
   "cell_type": "markdown",
   "metadata": {},
   "source": [
    "> Entre os métodos/algoritmos acima, aqueles que são baseados no uso de derivadas em seu funcionamento são o **Gradiente Descendente e o Newton-Raphson.**\n",
    "\n",
    "> 1 . Método minimo quadrados. Esse método busca encontrar a reta (ou curva) que melhor se ajusta a um conjunto de dados, minimizando a soma dos quadrados dos resíduos. Para encontrar o ponto de mínimo dessa soma, calcula-se a derivada em relação aos parâmetros da reta e iguala-se a zero.   \n",
    "> 2. **O gradiente descendente é um algoritmo de otimização iterativo que busca encontrar o mínimo de uma função. A cada iteração, o algoritmo move-se na direção oposta ao gradiente (que é o vetor das derivadas parciais) da função no ponto atual.**   \n",
    "> 3. **Newton Raphson. Esse método é utilizado para encontrar as raízes de uma função. A ideia é linearizar a função em torno de um ponto inicial e encontrar a raiz dessa linearização. O cálculo dessa linearização envolve o uso da derivada da função.**   \n",
    "> 4. CART. Árvore de decisão é um método de aprendizado de máquina supervisionado que cria uma estrutura em forma de árvore para tomar decisões. A divisão dos dados em cada nó da árvore é baseada em critérios de impureza (como entropia ou índice Gini), que não envolvem diretamente o cálculo de derivadas."
   ]
  },
  {
   "cell_type": "markdown",
   "metadata": {},
   "source": [
    "2. Dada uma base de dados com uma variável resposta $y$ e um conjunto de variáveis explicativas. Considere uma estrutura de um modelo de regressão. Explique com suas palavras por que não é possível obter parâmetros que forneçam um erro quadrático médio (EQM) menor que o obtido com estimadores de mínimos quadrados."
   ]
  },
  {
   "cell_type": "markdown",
   "metadata": {},
   "source": [
    "> Ao utilizar um modelo de regressão para prever a variável resposta a partir das variáveis explicativas, com o uso de estimadores de mínimos quadrados, o erro quadrático médio (EQM) seria o menor e mais preciso possível. Com isso, podemos afirmar que sem os estimadores de mínimos quadrados não é possível obter parâmetros que forneçam um erro quadrático médio menor. Isso ocorre porque ao tentar forçar o ajuste dos parâmetros, o modelo poderia se ajustar demais aos dados, resultando em um sobreajuste (*overfitting*) e gerando previsões menos precisas para valores que não estão presentes na amostra de dados usada para estimar o modelo."
   ]
  }
 ],
 "metadata": {
  "kernelspec": {
   "display_name": "Python 3",
   "language": "python",
   "name": "python3"
  },
  "language_info": {
   "codemirror_mode": {
    "name": "ipython",
    "version": 3
   },
   "file_extension": ".py",
   "mimetype": "text/x-python",
   "name": "python",
   "nbconvert_exporter": "python",
   "pygments_lexer": "ipython3",
   "version": "3.8.5"
  },
  "toc": {
   "base_numbering": 1,
   "nav_menu": {},
   "number_sections": true,
   "sideBar": true,
   "skip_h1_title": true,
   "title_cell": "Índice",
   "title_sidebar": "Conteúdo",
   "toc_cell": false,
   "toc_position": {},
   "toc_section_display": true,
   "toc_window_display": false
  },
  "varInspector": {
   "cols": {
    "lenName": 16,
    "lenType": 16,
    "lenVar": 40
   },
   "kernels_config": {
    "python": {
     "delete_cmd_postfix": "",
     "delete_cmd_prefix": "del ",
     "library": "var_list.py",
     "varRefreshCmd": "print(var_dic_list())"
    },
    "r": {
     "delete_cmd_postfix": ") ",
     "delete_cmd_prefix": "rm(",
     "library": "var_list.r",
     "varRefreshCmd": "cat(var_dic_list()) "
    }
   },
   "types_to_exclude": [
    "module",
    "function",
    "builtin_function_or_method",
    "instance",
    "_Feature"
   ],
   "window_display": false
  }
 },
 "nbformat": 4,
 "nbformat_minor": 4
}

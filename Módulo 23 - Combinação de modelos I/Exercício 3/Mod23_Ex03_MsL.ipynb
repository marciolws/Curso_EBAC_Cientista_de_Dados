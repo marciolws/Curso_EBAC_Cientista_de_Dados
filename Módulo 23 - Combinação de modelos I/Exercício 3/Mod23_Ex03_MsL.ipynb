{
 "cells": [
  {
   "cell_type": "markdown",
   "metadata": {},
   "source": [
    "![https://raw.githubusercontent.com/marciolws/Curso_EBAC_Cientista_de_Dados/refs/heads/main/EBAC-media-utils/logo/ebac_logo-data_science.png](https://raw.githubusercontent.com/marciolws/Curso_EBAC_Cientista_de_Dados/refs/heads/main/EBAC-media-utils/logo/ebac_logo-data_science.png)"
   ]
  },
  {
   "cell_type": "markdown",
   "metadata": {},
   "source": [
    "<!-- # **Profissão: Cientista de Dados** -->\n",
    "### **Módulo 23** | Combinação de modelos | Exercício III\n",
    "\n",
    "**Aluno:** [Marcio da Silva](https://www.linkedin.com/in/marciolws/)<br>\n",
    "**Data:** 02 de outubro de 2024.\n"
   ]
  },
  {
   "cell_type": "markdown",
   "metadata": {},
   "source": [
    "## Tarefa III"
   ]
  },
  {
   "cell_type": "markdown",
   "metadata": {},
   "source": [
    "**1.** Quais são os hyperparâmetros do RF?"
   ]
  },
  {
   "cell_type": "markdown",
   "metadata": {},
   "source": [
    "> Os hyperparâmetros do algoritmo ***Random Forest*** são:\n",
    ">\n",
    "> - n_estimators\n",
    "> - criterion\n",
    "> - max_depth\n",
    "> - min_samples_split\n",
    "> - min_samples_leaf\n",
    "> - min_weight_fraction_leaf\n",
    "> - max_features\n",
    "> - max_leaf_nodes\n",
    "> - min_impurity_decrease\n",
    "> - bootstrap\n",
    "> - oob_score\n",
    "> - n_jobs\n",
    "> - random_state\n",
    "> - verbose\n",
    "> - warm_start\n",
    "> - class_weight\n",
    "> - ccp_alpha\n",
    "> - max_samples"
   ]
  },
  {
   "cell_type": "markdown",
   "metadata": {},
   "source": [
    "**2.** Pra que serve cada um deles?"
   ]
  },
  {
   "cell_type": "markdown",
   "metadata": {},
   "source": [
    "> - ***n_estimators:*** Número de árvores de decisão no modelo. Cada árvore é construída a partir de uma amostra aleatória com reposição (*Bootstrap*);\n",
    "> - ***criterion:*** Métrica para avaliar a qualidade das divisões nos nós da árvore;\n",
    "> - ***max_depth:*** Número para limitar a profundidade máxima da árvore;\n",
    "> - ***min_samples_split:*** Número mínimo de amostras para que ocorra a divisão de um nó na árvore;\n",
    "> - ***min_samples_leaf:*** Número mínimo de amostras em uma folha para que seja considerada válida na divisão;\n",
    "> - ***min_weight_fraction_leaf:*** Número decimal para definir valor o \"peso\" (importância) mínimo necessário de uma folha;\n",
    "> - ***max_features:*** Número máximo de variáveis (*feature selection*) ao buscar a melhor divisão;\n",
    "> - ***max_leaf_nodes:*** Número máximo de nós na árvore;\n",
    "> - ***min_impurity_decrease:*** Valor mínimo de redução da impureza que define se haverá divisão do nó de acordo com a métrica utilizada;\n",
    "> - ***bootstrap:*** Define se o método *Bootstrap* será utilizado;\n",
    "> - ***oob_score:*** Define se o método *out-of-bag* será utilizado caso *Bootstrap* também estiver em uso;\n",
    "> - ***n_jobs:*** Número de processos que podem trabalhar em paralelo caso haja processamento disponível;\n",
    "> - ***random_state:*** Controla a aleatoriedade dos métodos *Bootstrap* e *feature selection* possibilitando a reprodução dos mesmos resultados do modelo;\n",
    "> - ***verbose:*** Controla o detalhamento das mensagens nos processos de treino e previsão do modelo;\n",
    "> - ***warm_start:*** Possibilita o reuso do treino anterior adicionando mais árvores ao modelo;\n",
    "> - ***class_weight:*** Define o peso de cada classe, possibilitando equilíbrio proporcional entre elas;\n",
    "> - ***ccp_alpha:*** Parâmetro de complexidade usado para controlar a pós-poda da árvore. Quanto maior o valor, maior será a poda;\n",
    "> - ***max_samples:*** Número máximo de amostras para treinar o modelo caso o método *Bootstrap* seja utilizado."
   ]
  }
 ],
 "metadata": {
  "kernelspec": {
   "display_name": "Python 3",
   "language": "python",
   "name": "python3"
  },
  "language_info": {
   "codemirror_mode": {
    "name": "ipython",
    "version": 3
   },
   "file_extension": ".py",
   "mimetype": "text/x-python",
   "name": "python",
   "nbconvert_exporter": "python",
   "pygments_lexer": "ipython3",
   "version": "3.12.6"
  },
  "toc": {
   "base_numbering": 1,
   "nav_menu": {},
   "number_sections": false,
   "sideBar": true,
   "skip_h1_title": true,
   "title_cell": "Índice",
   "title_sidebar": "Conteúdo",
   "toc_cell": false,
   "toc_position": {},
   "toc_section_display": true,
   "toc_window_display": false
  },
  "varInspector": {
   "cols": {
    "lenName": 16,
    "lenType": 16,
    "lenVar": 40
   },
   "kernels_config": {
    "python": {
     "delete_cmd_postfix": "",
     "delete_cmd_prefix": "del ",
     "library": "var_list.py",
     "varRefreshCmd": "print(var_dic_list())"
    },
    "r": {
     "delete_cmd_postfix": ") ",
     "delete_cmd_prefix": "rm(",
     "library": "var_list.r",
     "varRefreshCmd": "cat(var_dic_list()) "
    }
   },
   "types_to_exclude": [
    "module",
    "function",
    "builtin_function_or_method",
    "instance",
    "_Feature"
   ],
   "window_display": false
  }
 },
 "nbformat": 4,
 "nbformat_minor": 4
}

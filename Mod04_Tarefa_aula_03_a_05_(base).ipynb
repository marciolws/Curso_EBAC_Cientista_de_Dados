{
  "cells": [
    {
      "cell_type": "markdown",
      "metadata": {
        "id": "njUvbhQmC8-t"
      },
      "source": [
        "## Exercício 1: Vestibular\n",
        "\n",
        "Considere que a os dados gerados na célula abaixo contêm o número de acertos de 100 alunos em um vestibular para um curso de exatas, divididas pelos respectivos assuntos. Considere que cada assunto possui um número de questões conforme a tabela abaixo:\n",
        "\n",
        "| assunto | número de questões |\n",
        "|:---:|:---:|\n",
        "| Matemática | 24 |\n",
        "| Português | 18 |\n",
        "| Geografia | 8 |\n",
        "| Inglês | 8 |\n",
        "| História | 8 |\n",
        "| Física | 12 |\n",
        "| Química | 12 |\n",
        "\n",
        "Usando os comandos de operações com DataFrames que você aprendeu na Aula 03, calcule:\n",
        "\n",
        "1. (operações com escalar) Calcule o percentual de acerto dos alunos por assunto.  \n",
        "2. (operações entre *DataFrames) Calcule o total de acertos de cada aluno.  \n",
        "3. Calcule o porcentual geral de cada aluno.  \n",
        "4. Suponha que a nota de corte para a segunda fase seja 45. Quantos alunos tiveram nota maior que 45?  "
      ]
    },
    {
      "cell_type": "code",
      "execution_count": 2,
      "metadata": {
        "id": "Ll6TadxCC8-y"
      },
      "outputs": [],
      "source": [
        "import pandas as pd\n",
        "import numpy as np\n",
        "\n",
        "np.random.seed(42)\n",
        "df_mat = pd.DataFrame(np.random.randint(24, size=(100, 1)), columns=['Qt_acertos'])\n",
        "\n",
        "df_por = pd.DataFrame(np.random.randint(18, size=(100, 1)), columns=['Qt_acertos'])\n",
        "\n",
        "df_geo = pd.DataFrame(np.random.randint(8, size=(100, 1)), columns=['Qt_acertos'])\n",
        "\n",
        "df_ing = pd.DataFrame(np.random.randint(8, size=(100, 1)), columns=['Qt_acertos'])\n",
        "\n",
        "df_his = pd.DataFrame(np.random.randint(8, size=(100, 1)), columns=['Qt_acertos'])\n",
        "\n",
        "df_fis = pd.DataFrame(np.random.randint(12, size=(100, 1)), columns=['Qt_acertos'])\n",
        "\n",
        "df_qui = pd.DataFrame(np.random.randint(12, size=(100, 1)), columns=['Qt_acertos'])"
      ]
    },
    {
      "cell_type": "code",
      "execution_count": 3,
      "metadata": {
        "id": "JVmLXiC2C8-0"
      },
      "outputs": [
        {
          "data": {
            "text/html": [
              "<div>\n",
              "<style scoped>\n",
              "    .dataframe tbody tr th:only-of-type {\n",
              "        vertical-align: middle;\n",
              "    }\n",
              "\n",
              "    .dataframe tbody tr th {\n",
              "        vertical-align: top;\n",
              "    }\n",
              "\n",
              "    .dataframe thead th {\n",
              "        text-align: right;\n",
              "    }\n",
              "</style>\n",
              "<table border=\"1\" class=\"dataframe\">\n",
              "  <thead>\n",
              "    <tr style=\"text-align: right;\">\n",
              "      <th></th>\n",
              "      <th>Qt_acertos</th>\n",
              "    </tr>\n",
              "  </thead>\n",
              "  <tbody>\n",
              "    <tr>\n",
              "      <th>0</th>\n",
              "      <td>0.25</td>\n",
              "    </tr>\n",
              "    <tr>\n",
              "      <th>1</th>\n",
              "      <td>0.79</td>\n",
              "    </tr>\n",
              "    <tr>\n",
              "      <th>2</th>\n",
              "      <td>0.58</td>\n",
              "    </tr>\n",
              "    <tr>\n",
              "      <th>3</th>\n",
              "      <td>0.42</td>\n",
              "    </tr>\n",
              "    <tr>\n",
              "      <th>4</th>\n",
              "      <td>0.29</td>\n",
              "    </tr>\n",
              "    <tr>\n",
              "      <th>...</th>\n",
              "      <td>...</td>\n",
              "    </tr>\n",
              "    <tr>\n",
              "      <th>95</th>\n",
              "      <td>0.25</td>\n",
              "    </tr>\n",
              "    <tr>\n",
              "      <th>96</th>\n",
              "      <td>0.33</td>\n",
              "    </tr>\n",
              "    <tr>\n",
              "      <th>97</th>\n",
              "      <td>0.96</td>\n",
              "    </tr>\n",
              "    <tr>\n",
              "      <th>98</th>\n",
              "      <td>0.00</td>\n",
              "    </tr>\n",
              "    <tr>\n",
              "      <th>99</th>\n",
              "      <td>0.46</td>\n",
              "    </tr>\n",
              "  </tbody>\n",
              "</table>\n",
              "<p>100 rows × 1 columns</p>\n",
              "</div>"
            ],
            "text/plain": [
              "    Qt_acertos\n",
              "0         0.25\n",
              "1         0.79\n",
              "2         0.58\n",
              "3         0.42\n",
              "4         0.29\n",
              "..         ...\n",
              "95        0.25\n",
              "96        0.33\n",
              "97        0.96\n",
              "98        0.00\n",
              "99        0.46\n",
              "\n",
              "[100 rows x 1 columns]"
            ]
          },
          "execution_count": 3,
          "metadata": {},
          "output_type": "execute_result"
        }
      ],
      "source": [
        "# Com codigo abaixo, saberemos o percentual de acerto por aluno e por disciplina. Iremos dividir os dataframes das matérias pela quantidade total de questões por disciplina.\n",
        "\n",
        "percentual_mat = df_mat / 24\n",
        "percentual_por = df_por / 18\n",
        "percentual_geo = df_geo / 8\n",
        "percentual_ing = df_ing / 8\n",
        "percentual_his = df_his / 8\n",
        "percentual_fis = df_fis / 12\n",
        "percentual_qui = df_qui / 12\n",
        "\n",
        "# Usarei a materia de matematica como exemplo do output.\n",
        "\n",
        "percentual_mat.round(decimals= 2) #O metodo round foi usado para arredondar o valor em duas casas decimais."
      ]
    },
    {
      "cell_type": "code",
      "execution_count": 4,
      "metadata": {
        "id": "JbTwCyNHC8-1"
      },
      "outputs": [
        {
          "data": {
            "text/html": [
              "<div>\n",
              "<style scoped>\n",
              "    .dataframe tbody tr th:only-of-type {\n",
              "        vertical-align: middle;\n",
              "    }\n",
              "\n",
              "    .dataframe tbody tr th {\n",
              "        vertical-align: top;\n",
              "    }\n",
              "\n",
              "    .dataframe thead th {\n",
              "        text-align: right;\n",
              "    }\n",
              "</style>\n",
              "<table border=\"1\" class=\"dataframe\">\n",
              "  <thead>\n",
              "    <tr style=\"text-align: right;\">\n",
              "      <th></th>\n",
              "      <th>Qt_acertos</th>\n",
              "    </tr>\n",
              "  </thead>\n",
              "  <tbody>\n",
              "    <tr>\n",
              "      <th>0</th>\n",
              "      <td>35</td>\n",
              "    </tr>\n",
              "    <tr>\n",
              "      <th>1</th>\n",
              "      <td>48</td>\n",
              "    </tr>\n",
              "    <tr>\n",
              "      <th>2</th>\n",
              "      <td>50</td>\n",
              "    </tr>\n",
              "    <tr>\n",
              "      <th>3</th>\n",
              "      <td>32</td>\n",
              "    </tr>\n",
              "    <tr>\n",
              "      <th>4</th>\n",
              "      <td>30</td>\n",
              "    </tr>\n",
              "    <tr>\n",
              "      <th>...</th>\n",
              "      <td>...</td>\n",
              "    </tr>\n",
              "    <tr>\n",
              "      <th>95</th>\n",
              "      <td>34</td>\n",
              "    </tr>\n",
              "    <tr>\n",
              "      <th>96</th>\n",
              "      <td>27</td>\n",
              "    </tr>\n",
              "    <tr>\n",
              "      <th>97</th>\n",
              "      <td>40</td>\n",
              "    </tr>\n",
              "    <tr>\n",
              "      <th>98</th>\n",
              "      <td>40</td>\n",
              "    </tr>\n",
              "    <tr>\n",
              "      <th>99</th>\n",
              "      <td>42</td>\n",
              "    </tr>\n",
              "  </tbody>\n",
              "</table>\n",
              "<p>100 rows × 1 columns</p>\n",
              "</div>"
            ],
            "text/plain": [
              "    Qt_acertos\n",
              "0           35\n",
              "1           48\n",
              "2           50\n",
              "3           32\n",
              "4           30\n",
              "..         ...\n",
              "95          34\n",
              "96          27\n",
              "97          40\n",
              "98          40\n",
              "99          42\n",
              "\n",
              "[100 rows x 1 columns]"
            ]
          },
          "execution_count": 4,
          "metadata": {},
          "output_type": "execute_result"
        }
      ],
      "source": [
        "# O codigo abaixo vai nos mostrar o total de acerto por alunos, para isso, basta somar todos os dataframes.\n",
        "\n",
        "total = df_mat + df_por + df_geo + df_ing + df_his + df_fis + df_qui\n",
        "total"
      ]
    },
    {
      "cell_type": "code",
      "execution_count": 5,
      "metadata": {
        "id": "c2L8dJkVC8-3"
      },
      "outputs": [
        {
          "data": {
            "text/html": [
              "<div>\n",
              "<style scoped>\n",
              "    .dataframe tbody tr th:only-of-type {\n",
              "        vertical-align: middle;\n",
              "    }\n",
              "\n",
              "    .dataframe tbody tr th {\n",
              "        vertical-align: top;\n",
              "    }\n",
              "\n",
              "    .dataframe thead th {\n",
              "        text-align: right;\n",
              "    }\n",
              "</style>\n",
              "<table border=\"1\" class=\"dataframe\">\n",
              "  <thead>\n",
              "    <tr style=\"text-align: right;\">\n",
              "      <th></th>\n",
              "      <th>Qt_acertos</th>\n",
              "    </tr>\n",
              "  </thead>\n",
              "  <tbody>\n",
              "    <tr>\n",
              "      <th>0</th>\n",
              "      <td>0.39</td>\n",
              "    </tr>\n",
              "    <tr>\n",
              "      <th>1</th>\n",
              "      <td>0.53</td>\n",
              "    </tr>\n",
              "    <tr>\n",
              "      <th>2</th>\n",
              "      <td>0.56</td>\n",
              "    </tr>\n",
              "    <tr>\n",
              "      <th>3</th>\n",
              "      <td>0.36</td>\n",
              "    </tr>\n",
              "    <tr>\n",
              "      <th>4</th>\n",
              "      <td>0.33</td>\n",
              "    </tr>\n",
              "    <tr>\n",
              "      <th>...</th>\n",
              "      <td>...</td>\n",
              "    </tr>\n",
              "    <tr>\n",
              "      <th>95</th>\n",
              "      <td>0.38</td>\n",
              "    </tr>\n",
              "    <tr>\n",
              "      <th>96</th>\n",
              "      <td>0.30</td>\n",
              "    </tr>\n",
              "    <tr>\n",
              "      <th>97</th>\n",
              "      <td>0.44</td>\n",
              "    </tr>\n",
              "    <tr>\n",
              "      <th>98</th>\n",
              "      <td>0.44</td>\n",
              "    </tr>\n",
              "    <tr>\n",
              "      <th>99</th>\n",
              "      <td>0.47</td>\n",
              "    </tr>\n",
              "  </tbody>\n",
              "</table>\n",
              "<p>100 rows × 1 columns</p>\n",
              "</div>"
            ],
            "text/plain": [
              "    Qt_acertos\n",
              "0         0.39\n",
              "1         0.53\n",
              "2         0.56\n",
              "3         0.36\n",
              "4         0.33\n",
              "..         ...\n",
              "95        0.38\n",
              "96        0.30\n",
              "97        0.44\n",
              "98        0.44\n",
              "99        0.47\n",
              "\n",
              "[100 rows x 1 columns]"
            ]
          },
          "execution_count": 5,
          "metadata": {},
          "output_type": "execute_result"
        }
      ],
      "source": [
        "#Para identifica a porcentagem geral de cada aluno, vamos dividir a quantidade de acerto pela quantidade total de questões.\n",
        "\n",
        "total_questões = 24 + 18 + 8 + 8 + 8 + 12 + 12\n",
        "\n",
        "porcentagem_geral = total / total_questões\n",
        "\n",
        "porcentagem_geral.round(decimals= 2)"
      ]
    },
    {
      "cell_type": "code",
      "execution_count": 6,
      "metadata": {
        "id": "PZTZ7DFzC8-3"
      },
      "outputs": [
        {
          "data": {
            "text/plain": [
              "Qt_acertos\n",
              "50            7\n",
              "48            5\n",
              "53            3\n",
              "46            2\n",
              "49            2\n",
              "52            2\n",
              "55            2\n",
              "56            2\n",
              "47            1\n",
              "54            1\n",
              "58            1\n",
              "62            1\n",
              "63            1\n",
              "66            1\n",
              "Name: count, dtype: int64"
            ]
          },
          "execution_count": 6,
          "metadata": {},
          "output_type": "execute_result"
        }
      ],
      "source": [
        "#Usei o dataframe da quantidade de acertos por aluno, filtrei para aqueles que acertaram mais que 45 questões, e realizei a contagem.\n",
        "total[total['Qt_acertos'] > 45].value_counts()\n",
        "\n",
        "#Foi apresntado a quantidade de alunos que acertou mais que 45 questões por quantidade de questões acertadas, se quisermos saber o total basta colocar um .sum() no final"
      ]
    },
    {
      "cell_type": "code",
      "execution_count": 7,
      "metadata": {},
      "outputs": [
        {
          "data": {
            "text/plain": [
              "31"
            ]
          },
          "execution_count": 7,
          "metadata": {},
          "output_type": "execute_result"
        }
      ],
      "source": [
        "total[total['Qt_acertos'] > 45].value_counts().sum()"
      ]
    },
    {
      "cell_type": "markdown",
      "metadata": {
        "id": "Hlfl75XXC8-4"
      },
      "source": [
        "## 2) Vestibular II\n",
        "\n",
        "Ainda sobre o mesmo banco de dados:\n",
        "\n",
        "1. Neste vestibular, quem 'zera' em matemática, física ou química está desqualificado. Monte um novo *DataFrame* com os alunos desqualificados por este critério.\n",
        "2. Quantos são esses alunos?\n",
        "3. Qual a média desses alunos em história e geografia?\n",
        "4. Monte um *DataFrame* com os alunos que passaram para a segunda fase. Repare que estes alunos não podem ter sido desqualificados."
      ]
    },
    {
      "cell_type": "code",
      "execution_count": 8,
      "metadata": {
        "id": "hPaMGXvJC8-4"
      },
      "outputs": [
        {
          "data": {
            "text/html": [
              "<div>\n",
              "<style scoped>\n",
              "    .dataframe tbody tr th:only-of-type {\n",
              "        vertical-align: middle;\n",
              "    }\n",
              "\n",
              "    .dataframe tbody tr th {\n",
              "        vertical-align: top;\n",
              "    }\n",
              "\n",
              "    .dataframe thead th {\n",
              "        text-align: right;\n",
              "    }\n",
              "</style>\n",
              "<table border=\"1\" class=\"dataframe\">\n",
              "  <thead>\n",
              "    <tr style=\"text-align: right;\">\n",
              "      <th></th>\n",
              "      <th>Qt_acertos</th>\n",
              "    </tr>\n",
              "  </thead>\n",
              "  <tbody>\n",
              "    <tr>\n",
              "      <th>3</th>\n",
              "      <td>32</td>\n",
              "    </tr>\n",
              "    <tr>\n",
              "      <th>6</th>\n",
              "      <td>29</td>\n",
              "    </tr>\n",
              "    <tr>\n",
              "      <th>10</th>\n",
              "      <td>31</td>\n",
              "    </tr>\n",
              "    <tr>\n",
              "      <th>12</th>\n",
              "      <td>42</td>\n",
              "    </tr>\n",
              "    <tr>\n",
              "      <th>14</th>\n",
              "      <td>31</td>\n",
              "    </tr>\n",
              "    <tr>\n",
              "      <th>20</th>\n",
              "      <td>53</td>\n",
              "    </tr>\n",
              "    <tr>\n",
              "      <th>25</th>\n",
              "      <td>27</td>\n",
              "    </tr>\n",
              "    <tr>\n",
              "      <th>26</th>\n",
              "      <td>40</td>\n",
              "    </tr>\n",
              "    <tr>\n",
              "      <th>27</th>\n",
              "      <td>50</td>\n",
              "    </tr>\n",
              "    <tr>\n",
              "      <th>33</th>\n",
              "      <td>39</td>\n",
              "    </tr>\n",
              "    <tr>\n",
              "      <th>35</th>\n",
              "      <td>48</td>\n",
              "    </tr>\n",
              "    <tr>\n",
              "      <th>49</th>\n",
              "      <td>19</td>\n",
              "    </tr>\n",
              "    <tr>\n",
              "      <th>56</th>\n",
              "      <td>39</td>\n",
              "    </tr>\n",
              "    <tr>\n",
              "      <th>65</th>\n",
              "      <td>24</td>\n",
              "    </tr>\n",
              "    <tr>\n",
              "      <th>66</th>\n",
              "      <td>31</td>\n",
              "    </tr>\n",
              "    <tr>\n",
              "      <th>72</th>\n",
              "      <td>50</td>\n",
              "    </tr>\n",
              "    <tr>\n",
              "      <th>73</th>\n",
              "      <td>37</td>\n",
              "    </tr>\n",
              "    <tr>\n",
              "      <th>74</th>\n",
              "      <td>39</td>\n",
              "    </tr>\n",
              "    <tr>\n",
              "      <th>84</th>\n",
              "      <td>26</td>\n",
              "    </tr>\n",
              "    <tr>\n",
              "      <th>89</th>\n",
              "      <td>63</td>\n",
              "    </tr>\n",
              "    <tr>\n",
              "      <th>92</th>\n",
              "      <td>40</td>\n",
              "    </tr>\n",
              "    <tr>\n",
              "      <th>94</th>\n",
              "      <td>25</td>\n",
              "    </tr>\n",
              "    <tr>\n",
              "      <th>98</th>\n",
              "      <td>40</td>\n",
              "    </tr>\n",
              "  </tbody>\n",
              "</table>\n",
              "</div>"
            ],
            "text/plain": [
              "    Qt_acertos\n",
              "3           32\n",
              "6           29\n",
              "10          31\n",
              "12          42\n",
              "14          31\n",
              "20          53\n",
              "25          27\n",
              "26          40\n",
              "27          50\n",
              "33          39\n",
              "35          48\n",
              "49          19\n",
              "56          39\n",
              "65          24\n",
              "66          31\n",
              "72          50\n",
              "73          37\n",
              "74          39\n",
              "84          26\n",
              "89          63\n",
              "92          40\n",
              "94          25\n",
              "98          40"
            ]
          },
          "execution_count": 8,
          "metadata": {},
          "output_type": "execute_result"
        }
      ],
      "source": [
        "# seu código aqui\n",
        "\n",
        "df_desqualificados = total[(df_mat['Qt_acertos']==0)|\n",
        "                           (df_fis['Qt_acertos']==0)|\n",
        "                           (df_qui['Qt_acertos']==0)]\n",
        "df_desqualificados"
      ]
    },
    {
      "cell_type": "markdown",
      "metadata": {
        "id": "EGBUWpAHC8-5"
      },
      "source": [
        "## 3) Registros de Vacinação COVID19 - RS até TO\n",
        "Vamos trabalhar agora com a base de vacinações do RS até o T). Para facilitar a sua vida, copiamos o link do arquivo na célula abaixo.\n",
        "\n",
        "1. Quantas vacinas estão registradas nessa base?  \n",
        "2. Quantos pacientes foram vacinados? (considere um paciente para cada valor único de ```paciente_id```)  \n",
        "3. Quantos pacientes únicos tomaram a primeira dose? OBS: Há um caractere especial neste campo. Receba os valores do campo com o método ```.unique()```.   \n",
        "4. Quantos pacientes com menos de 18 anos foram vacinados?  \n",
        "5. Quantos estabelecimentos aplicaram vacina no RS até TO?\n",
        "\n",
        "\n",
        "**OBS:** O portal do DATASUS pode apresentar instabilidades, retornando um erro na segunda célula abaixo. Por este motivo está disponível uma base estática, que se for baixada para o seu *working directory* pode ser lida com este comando: ```df = pd.read_csv('registros de vacinacao covid ACRE.csv', sep=';')```.\n",
        "\n",
        "**OBS2:** Para saber qual é o seu working directory, rode no jupyter: ```!pwd```."
      ]
    },
    {
      "cell_type": "code",
      "execution_count": 9,
      "metadata": {},
      "outputs": [],
      "source": [
        "arquivo = 'https://s3.sa-east-1.amazonaws.com/ckan.saude.gov.br/SIPNI/COVID/uf/uf%3DRS/part-00000-9026585e-829a-47ae-ab35-98eb5897c24d.c000.csv'"
      ]
    },
    {
      "cell_type": "code",
      "execution_count": 11,
      "metadata": {
        "id": "SC9YMWLSC8-6"
      },
      "outputs": [],
      "source": [
        "# 1) Sua solução aqui\n",
        "df = pd.read_csv(arquivo, sep=';')"
      ]
    },
    {
      "cell_type": "code",
      "execution_count": 12,
      "metadata": {},
      "outputs": [
        {
          "name": "stdout",
          "output_type": "stream",
          "text": [
            "<class 'pandas.core.frame.DataFrame'>\n",
            "RangeIndex: 6612563 entries, 0 to 6612562\n",
            "Data columns (total 32 columns):\n",
            " #   Column                                    Dtype  \n",
            "---  ------                                    -----  \n",
            " 0   document_id                               object \n",
            " 1   paciente_id                               object \n",
            " 2   paciente_idade                            int64  \n",
            " 3   paciente_dataNascimento                   object \n",
            " 4   paciente_enumSexoBiologico                object \n",
            " 5   paciente_racaCor_codigo                   float64\n",
            " 6   paciente_racaCor_valor                    object \n",
            " 7   paciente_endereco_coIbgeMunicipio         float64\n",
            " 8   paciente_endereco_coPais                  float64\n",
            " 9   paciente_endereco_nmMunicipio             object \n",
            " 10  paciente_endereco_nmPais                  object \n",
            " 11  paciente_endereco_uf                      object \n",
            " 12  paciente_endereco_cep                     float64\n",
            " 13  paciente_nacionalidade_enumNacionalidade  object \n",
            " 14  estabelecimento_valor                     int64  \n",
            " 15  estabelecimento_razaoSocial               object \n",
            " 16  estalecimento_noFantasia                  object \n",
            " 17  estabelecimento_municipio_codigo          int64  \n",
            " 18  estabelecimento_municipio_nome            object \n",
            " 19  estabelecimento_uf                        object \n",
            " 20  vacina_grupoAtendimento_codigo            int64  \n",
            " 21  vacina_grupoAtendimento_nome              object \n",
            " 22  vacina_categoria_codigo                   float64\n",
            " 23  vacina_categoria_nome                     object \n",
            " 24  vacina_lote                               object \n",
            " 25  vacina_fabricante_nome                    object \n",
            " 26  vacina_fabricante_referencia              object \n",
            " 27  vacina_dataAplicacao                      object \n",
            " 28  vacina_descricao_dose                     object \n",
            " 29  vacina_codigo                             int64  \n",
            " 30  vacina_nome                               object \n",
            " 31  sistema_origem                            object \n",
            "dtypes: float64(5), int64(5), object(22)\n",
            "memory usage: 1.6+ GB\n"
          ]
        }
      ],
      "source": [
        "df.info()"
      ]
    },
    {
      "cell_type": "code",
      "execution_count": 106,
      "metadata": {
        "id": "PMztY1RlC8-7"
      },
      "outputs": [
        {
          "data": {
            "text/html": [
              "<div>\n",
              "<style scoped>\n",
              "    .dataframe tbody tr th:only-of-type {\n",
              "        vertical-align: middle;\n",
              "    }\n",
              "\n",
              "    .dataframe tbody tr th {\n",
              "        vertical-align: top;\n",
              "    }\n",
              "\n",
              "    .dataframe thead th {\n",
              "        text-align: right;\n",
              "    }\n",
              "</style>\n",
              "<table border=\"1\" class=\"dataframe\">\n",
              "  <thead>\n",
              "    <tr style=\"text-align: right;\">\n",
              "      <th></th>\n",
              "      <th>document_id</th>\n",
              "      <th>paciente_id</th>\n",
              "      <th>paciente_idade</th>\n",
              "      <th>paciente_dataNascimento</th>\n",
              "      <th>paciente_enumSexoBiologico</th>\n",
              "      <th>paciente_racaCor_codigo</th>\n",
              "      <th>paciente_racaCor_valor</th>\n",
              "      <th>paciente_endereco_coIbgeMunicipio</th>\n",
              "      <th>paciente_endereco_coPais</th>\n",
              "      <th>paciente_endereco_nmMunicipio</th>\n",
              "      <th>...</th>\n",
              "      <th>vacina_categoria_codigo</th>\n",
              "      <th>vacina_categoria_nome</th>\n",
              "      <th>vacina_lote</th>\n",
              "      <th>vacina_fabricante_nome</th>\n",
              "      <th>vacina_fabricante_referencia</th>\n",
              "      <th>vacina_dataAplicacao</th>\n",
              "      <th>vacina_descricao_dose</th>\n",
              "      <th>vacina_codigo</th>\n",
              "      <th>vacina_nome</th>\n",
              "      <th>sistema_origem</th>\n",
              "    </tr>\n",
              "  </thead>\n",
              "  <tbody>\n",
              "    <tr>\n",
              "      <th>0</th>\n",
              "      <td>9b95319b-dcfa-4ba6-809c-47ea544b7f9b-i0b0</td>\n",
              "      <td>4997dce78d15781e263d2c711fb91735b76c4f012e6a7a...</td>\n",
              "      <td>81</td>\n",
              "      <td>1942-05-02</td>\n",
              "      <td>M</td>\n",
              "      <td>1.0</td>\n",
              "      <td>BRANCA</td>\n",
              "      <td>431127.0</td>\n",
              "      <td>10.0</td>\n",
              "      <td>LAGOA DOS TRES CANTOS</td>\n",
              "      <td>...</td>\n",
              "      <td>2.0</td>\n",
              "      <td>Faixa Etária</td>\n",
              "      <td>2400824/00</td>\n",
              "      <td>BUTANTAN</td>\n",
              "      <td>152</td>\n",
              "      <td>2024-03-27</td>\n",
              "      <td>Única</td>\n",
              "      <td>33</td>\n",
              "      <td>INF3</td>\n",
              "      <td>Novo PNI</td>\n",
              "    </tr>\n",
              "    <tr>\n",
              "      <th>1</th>\n",
              "      <td>43bdd311-7edf-4e3d-ad13-2f5c3aa3a80e-i0b0</td>\n",
              "      <td>b4b1273aab1d960a01a43cb07b32b891255f4e201794a4...</td>\n",
              "      <td>28</td>\n",
              "      <td>1992-11-29</td>\n",
              "      <td>F</td>\n",
              "      <td>1.0</td>\n",
              "      <td>BRANCA</td>\n",
              "      <td>431490.0</td>\n",
              "      <td>10.0</td>\n",
              "      <td>PORTO ALEGRE</td>\n",
              "      <td>...</td>\n",
              "      <td>2.0</td>\n",
              "      <td>Faixa Etária</td>\n",
              "      <td>FG3529</td>\n",
              "      <td>PFIZER</td>\n",
              "      <td>Organization/00394544000851</td>\n",
              "      <td>2021-10-19</td>\n",
              "      <td>2ª Dose</td>\n",
              "      <td>87</td>\n",
              "      <td>COVID-19 PFIZER - COMIRNATY</td>\n",
              "      <td>Novo PNI</td>\n",
              "    </tr>\n",
              "    <tr>\n",
              "      <th>2</th>\n",
              "      <td>9c9f8eda-77d5-4c14-817a-3331d4a37144-i0b0</td>\n",
              "      <td>81b6b19f21517449693a3fb8db4ff6939d995456fc9d96...</td>\n",
              "      <td>61</td>\n",
              "      <td>1960-06-12</td>\n",
              "      <td>F</td>\n",
              "      <td>1.0</td>\n",
              "      <td>BRANCA</td>\n",
              "      <td>431340.0</td>\n",
              "      <td>10.0</td>\n",
              "      <td>NOVO HAMBURGO</td>\n",
              "      <td>...</td>\n",
              "      <td>2.0</td>\n",
              "      <td>Faixa Etária</td>\n",
              "      <td>210275</td>\n",
              "      <td>SINOVAC/BUTANTAN</td>\n",
              "      <td>NaN</td>\n",
              "      <td>2021-07-22</td>\n",
              "      <td>2ª Dose</td>\n",
              "      <td>86</td>\n",
              "      <td>COVID-19 SINOVAC/BUTANTAN - CORONAVAC</td>\n",
              "      <td>G-MUS - Gestão Municipal de Saúde</td>\n",
              "    </tr>\n",
              "    <tr>\n",
              "      <th>3</th>\n",
              "      <td>43c4ebb6-976e-4eea-807f-a993d8a39c76-i0b0</td>\n",
              "      <td>4c525548992ad07894e4149b3ee9d9ea4f9a93b6746fe5...</td>\n",
              "      <td>71</td>\n",
              "      <td>1952-09-21</td>\n",
              "      <td>M</td>\n",
              "      <td>1.0</td>\n",
              "      <td>BRANCA</td>\n",
              "      <td>431660.0</td>\n",
              "      <td>10.0</td>\n",
              "      <td>SANANDUVA</td>\n",
              "      <td>...</td>\n",
              "      <td>2.0</td>\n",
              "      <td>Faixa Etária</td>\n",
              "      <td>2400934/00</td>\n",
              "      <td>BUTANTAN</td>\n",
              "      <td>152</td>\n",
              "      <td>2024-04-03</td>\n",
              "      <td>Única</td>\n",
              "      <td>33</td>\n",
              "      <td>INF3</td>\n",
              "      <td>Novo PNI</td>\n",
              "    </tr>\n",
              "    <tr>\n",
              "      <th>4</th>\n",
              "      <td>9fb022e1-9c2a-453c-a1e6-667b1b06e75b-i0b0</td>\n",
              "      <td>005019b2e2170e5097be33f5b6974713ca9c243ec1b997...</td>\n",
              "      <td>13</td>\n",
              "      <td>2008-12-28</td>\n",
              "      <td>M</td>\n",
              "      <td>1.0</td>\n",
              "      <td>BRANCA</td>\n",
              "      <td>432300.0</td>\n",
              "      <td>10.0</td>\n",
              "      <td>VIAMAO</td>\n",
              "      <td>...</td>\n",
              "      <td>2.0</td>\n",
              "      <td>Faixa Etária</td>\n",
              "      <td>FL3207</td>\n",
              "      <td>PFIZER</td>\n",
              "      <td>Organization/28290</td>\n",
              "      <td>2021-12-28</td>\n",
              "      <td>2ª Dose</td>\n",
              "      <td>87</td>\n",
              "      <td>COVID-19 PFIZER - COMIRNATY</td>\n",
              "      <td>Novo PNI</td>\n",
              "    </tr>\n",
              "  </tbody>\n",
              "</table>\n",
              "<p>5 rows × 32 columns</p>\n",
              "</div>"
            ],
            "text/plain": [
              "                                 document_id  \\\n",
              "0  9b95319b-dcfa-4ba6-809c-47ea544b7f9b-i0b0   \n",
              "1  43bdd311-7edf-4e3d-ad13-2f5c3aa3a80e-i0b0   \n",
              "2  9c9f8eda-77d5-4c14-817a-3331d4a37144-i0b0   \n",
              "3  43c4ebb6-976e-4eea-807f-a993d8a39c76-i0b0   \n",
              "4  9fb022e1-9c2a-453c-a1e6-667b1b06e75b-i0b0   \n",
              "\n",
              "                                         paciente_id  paciente_idade  \\\n",
              "0  4997dce78d15781e263d2c711fb91735b76c4f012e6a7a...              81   \n",
              "1  b4b1273aab1d960a01a43cb07b32b891255f4e201794a4...              28   \n",
              "2  81b6b19f21517449693a3fb8db4ff6939d995456fc9d96...              61   \n",
              "3  4c525548992ad07894e4149b3ee9d9ea4f9a93b6746fe5...              71   \n",
              "4  005019b2e2170e5097be33f5b6974713ca9c243ec1b997...              13   \n",
              "\n",
              "  paciente_dataNascimento paciente_enumSexoBiologico  paciente_racaCor_codigo  \\\n",
              "0              1942-05-02                          M                      1.0   \n",
              "1              1992-11-29                          F                      1.0   \n",
              "2              1960-06-12                          F                      1.0   \n",
              "3              1952-09-21                          M                      1.0   \n",
              "4              2008-12-28                          M                      1.0   \n",
              "\n",
              "  paciente_racaCor_valor  paciente_endereco_coIbgeMunicipio  \\\n",
              "0                 BRANCA                           431127.0   \n",
              "1                 BRANCA                           431490.0   \n",
              "2                 BRANCA                           431340.0   \n",
              "3                 BRANCA                           431660.0   \n",
              "4                 BRANCA                           432300.0   \n",
              "\n",
              "   paciente_endereco_coPais paciente_endereco_nmMunicipio  ...  \\\n",
              "0                      10.0         LAGOA DOS TRES CANTOS  ...   \n",
              "1                      10.0                  PORTO ALEGRE  ...   \n",
              "2                      10.0                 NOVO HAMBURGO  ...   \n",
              "3                      10.0                     SANANDUVA  ...   \n",
              "4                      10.0                        VIAMAO  ...   \n",
              "\n",
              "  vacina_categoria_codigo vacina_categoria_nome  vacina_lote  \\\n",
              "0                     2.0          Faixa Etária   2400824/00   \n",
              "1                     2.0          Faixa Etária       FG3529   \n",
              "2                     2.0          Faixa Etária       210275   \n",
              "3                     2.0          Faixa Etária   2400934/00   \n",
              "4                     2.0          Faixa Etária       FL3207   \n",
              "\n",
              "  vacina_fabricante_nome  vacina_fabricante_referencia vacina_dataAplicacao  \\\n",
              "0               BUTANTAN                           152           2024-03-27   \n",
              "1                 PFIZER   Organization/00394544000851           2021-10-19   \n",
              "2       SINOVAC/BUTANTAN                           NaN           2021-07-22   \n",
              "3               BUTANTAN                           152           2024-04-03   \n",
              "4                 PFIZER            Organization/28290           2021-12-28   \n",
              "\n",
              "  vacina_descricao_dose  vacina_codigo                            vacina_nome  \\\n",
              "0                 Única             33                                   INF3   \n",
              "1               2ª Dose             87            COVID-19 PFIZER - COMIRNATY   \n",
              "2               2ª Dose             86  COVID-19 SINOVAC/BUTANTAN - CORONAVAC   \n",
              "3                 Única             33                                   INF3   \n",
              "4               2ª Dose             87            COVID-19 PFIZER - COMIRNATY   \n",
              "\n",
              "                      sistema_origem  \n",
              "0                           Novo PNI  \n",
              "1                           Novo PNI  \n",
              "2  G-MUS - Gestão Municipal de Saúde  \n",
              "3                           Novo PNI  \n",
              "4                           Novo PNI  \n",
              "\n",
              "[5 rows x 32 columns]"
            ]
          },
          "execution_count": 106,
          "metadata": {},
          "output_type": "execute_result"
        }
      ],
      "source": [
        "df.head()"
      ]
    },
    {
      "cell_type": "code",
      "execution_count": 13,
      "metadata": {
        "id": "V_wr--3JC8-7"
      },
      "outputs": [
        {
          "data": {
            "text/plain": [
              "6612563"
            ]
          },
          "execution_count": 13,
          "metadata": {},
          "output_type": "execute_result"
        }
      ],
      "source": [
        "df.shape[0]"
      ]
    },
    {
      "cell_type": "code",
      "execution_count": 14,
      "metadata": {
        "id": "SPHgIxtcC8-7"
      },
      "outputs": [
        {
          "data": {
            "text/plain": [
              "5075877"
            ]
          },
          "execution_count": 14,
          "metadata": {},
          "output_type": "execute_result"
        }
      ],
      "source": [
        "#Usando o método nunique na coluna paciente_id obtemos o total de paciente vacinados.\n",
        "\n",
        "df['paciente_id'].nunique()"
      ]
    },
    {
      "cell_type": "code",
      "execution_count": 109,
      "metadata": {
        "id": "S6ab9ExEC8-7"
      },
      "outputs": [
        {
          "data": {
            "text/plain": [
              "496571"
            ]
          },
          "execution_count": 109,
          "metadata": {},
          "output_type": "execute_result"
        }
      ],
      "source": [
        "primeira_dose = df['vacina_descricao_dose'].unique()[0]\n",
        "df['paciente_id'].loc[df['vacina_descricao_dose'] == primeira_dose].nunique()"
      ]
    },
    {
      "cell_type": "code",
      "execution_count": 110,
      "metadata": {
        "id": "PVrY_-qlC8-8"
      },
      "outputs": [
        {
          "data": {
            "text/plain": [
              "496571"
            ]
          },
          "execution_count": 110,
          "metadata": {},
          "output_type": "execute_result"
        }
      ],
      "source": [
        "primeira_dose = df['vacina_descricao_dose'].unique()[0]\n",
        "df_primeira_dose = df[df['vacina_descricao_dose'] == primeira_dose]\n",
        "df_primeira_dose['paciente_id'].nunique()\n"
      ]
    },
    {
      "cell_type": "code",
      "execution_count": 111,
      "metadata": {},
      "outputs": [
        {
          "data": {
            "text/plain": [
              "671317"
            ]
          },
          "execution_count": 111,
          "metadata": {},
          "output_type": "execute_result"
        }
      ],
      "source": [
        "df_menor = df[df['paciente_idade'] < 18]\n",
        "df_menor['paciente_id'].nunique()"
      ]
    },
    {
      "cell_type": "markdown",
      "metadata": {
        "id": "LH1LSYvGC8-8"
      },
      "source": [
        "## 4) Vacinação II\n",
        "Gere um *DataFrame* que contenha somente os estabelecimentos que aplicaram vcinas a menores de 18 anos. Nesse *DataFrame* devem conter somente os dados dos estabelecimentos, mais uma coluna sendo a quantidade de vacinas que o estabelecimento aplicou a menores de 18 anos.  \n",
        "  \n",
        "1. crie uma cópia do *DataFrame* original, contendo somente os registros de vacinas realizadas a menores de 18 anos.  \n",
        "2. crie uma lista das colunas desse *DataFrame* com o atributo de *DataFrame* **.columns()**  \n",
        "3. Nesse *DataFrame* faça uma contagem do campo ```vacina_categoria_nome```.\n",
        "3. a partir da lista de colunas, escolha somente aquelas que são referentes ao estabelecimento, faça uma lista com esses valores.  \n",
        "4. usando o método *.loc*, selecione somente essas variáveis  \n",
        "5. Aplique o método **.drop_duplicates** e crie uma lista com uma linha para cada estabelecimento, com os dados do estabelecimento  "
      ]
    },
    {
      "cell_type": "code",
      "execution_count": 16,
      "metadata": {
        "id": "3ojs12vUC8-8"
      },
      "outputs": [],
      "source": [
        "#Aqui fazemos uma cópia do dataframe original, filtrando para menores de 18 anos\n",
        "\n",
        "df_menor = df[df['paciente_idade'] < 18].copy()"
      ]
    },
    {
      "cell_type": "code",
      "execution_count": 17,
      "metadata": {
        "id": "sLyevPRBC8-8"
      },
      "outputs": [
        {
          "data": {
            "text/plain": [
              "Index(['document_id', 'paciente_id', 'paciente_idade',\n",
              "       'paciente_dataNascimento', 'paciente_enumSexoBiologico',\n",
              "       'paciente_racaCor_codigo', 'paciente_racaCor_valor',\n",
              "       'paciente_endereco_coIbgeMunicipio', 'paciente_endereco_coPais',\n",
              "       'paciente_endereco_nmMunicipio', 'paciente_endereco_nmPais',\n",
              "       'paciente_endereco_uf', 'paciente_endereco_cep',\n",
              "       'paciente_nacionalidade_enumNacionalidade', 'estabelecimento_valor',\n",
              "       'estabelecimento_razaoSocial', 'estalecimento_noFantasia',\n",
              "       'estabelecimento_municipio_codigo', 'estabelecimento_municipio_nome',\n",
              "       'estabelecimento_uf', 'vacina_grupoAtendimento_codigo',\n",
              "       'vacina_grupoAtendimento_nome', 'vacina_categoria_codigo',\n",
              "       'vacina_categoria_nome', 'vacina_lote', 'vacina_fabricante_nome',\n",
              "       'vacina_fabricante_referencia', 'vacina_dataAplicacao',\n",
              "       'vacina_descricao_dose', 'vacina_codigo', 'vacina_nome',\n",
              "       'sistema_origem'],\n",
              "      dtype='object')"
            ]
          },
          "execution_count": 17,
          "metadata": {},
          "output_type": "execute_result"
        }
      ],
      "source": [
        "#Vizualização quais são as colunas que tem no meu dataframe.\n",
        "\n",
        "df_menor.columns"
      ]
    },
    {
      "cell_type": "code",
      "execution_count": 18,
      "metadata": {
        "id": "lZAW-Dp8C8-8"
      },
      "outputs": [
        {
          "data": {
            "text/plain": [
              "vacina_categoria_nome\n",
              "Faixa Etária                                       465157\n",
              "Comorbidades                                        31513\n",
              "Trabalhadores de Saúde                              12655\n",
              "Povos Indígenas                                      3625\n",
              "Outros                                               1712\n",
              "Pessoas com Deficiência                               894\n",
              "Gestantes                                             798\n",
              "Povos e Comunidades Tradicionais                      413\n",
              "Trabalhadores da Educação                             345\n",
              "População Privada de Liberdade                        122\n",
              "Puérperas                                             113\n",
              "Trabalhadores Industriais                              47\n",
              "Pessoas Institucionalizadas                            45\n",
              "Pessoas em Situação de Rua                             16\n",
              "Pessoas de 60 anos ou mais institucionalizadas         14\n",
              "Trabalhadores de Transporte                            10\n",
              "Forças Armadas (membros ativos)                         7\n",
              "Forças de Segurança e Salvamento                        2\n",
              "Funcionário do Sistema de Privação de Liberdade         2\n",
              "Trabalhadores Portuários                                1\n",
              "Name: count, dtype: int64"
            ]
          },
          "execution_count": 18,
          "metadata": {},
          "output_type": "execute_result"
        }
      ],
      "source": [
        "# 3)\n",
        "df_menor['vacina_categoria_nome'].value_counts()"
      ]
    },
    {
      "cell_type": "code",
      "execution_count": 20,
      "metadata": {
        "id": "xxYsxrxAC8-8"
      },
      "outputs": [],
      "source": [
        "#Lista com as colunas dos estabelecimentos que serão utilizadas\n",
        "\n",
        "lista_variaveis = ['estabelecimento_valor',\n",
        "       'estabelecimento_razaoSocial', 'estalecimento_noFantasia',\n",
        "       'estabelecimento_municipio_codigo', 'estabelecimento_municipio_nome',\n",
        "       'estabelecimento_uf']\n",
        "df_menor_lista = df_menor.loc[:,lista_variaveis]"
      ]
    },
    {
      "cell_type": "code",
      "execution_count": 21,
      "metadata": {
        "id": "vaX2x_0rC8-8"
      },
      "outputs": [
        {
          "data": {
            "text/plain": [
              "(2354, 6)"
            ]
          },
          "execution_count": 21,
          "metadata": {},
          "output_type": "execute_result"
        }
      ],
      "source": [
        "df_menor_lista = df_menor_lista.drop_duplicates()\n",
        "df_menor_lista.shape"
      ]
    }
  ],
  "metadata": {
    "colab": {
      "provenance": []
    },
    "kernelspec": {
      "display_name": "Python 3",
      "language": "python",
      "name": "python3"
    },
    "language_info": {
      "codemirror_mode": {
        "name": "ipython",
        "version": 3
      },
      "file_extension": ".py",
      "mimetype": "text/x-python",
      "name": "python",
      "nbconvert_exporter": "python",
      "pygments_lexer": "ipython3",
      "version": "3.12.3"
    },
    "toc": {
      "base_numbering": 1,
      "nav_menu": {},
      "number_sections": false,
      "sideBar": true,
      "skip_h1_title": true,
      "title_cell": "Índice",
      "title_sidebar": "Conteúdo",
      "toc_cell": false,
      "toc_position": {},
      "toc_section_display": true,
      "toc_window_display": false
    },
    "varInspector": {
      "cols": {
        "lenName": 16,
        "lenType": 16,
        "lenVar": 40
      },
      "kernels_config": {
        "python": {
          "delete_cmd_postfix": "",
          "delete_cmd_prefix": "del ",
          "library": "var_list.py",
          "varRefreshCmd": "print(var_dic_list())"
        },
        "r": {
          "delete_cmd_postfix": ") ",
          "delete_cmd_prefix": "rm(",
          "library": "var_list.r",
          "varRefreshCmd": "cat(var_dic_list()) "
        }
      },
      "types_to_exclude": [
        "module",
        "function",
        "builtin_function_or_method",
        "instance",
        "_Feature"
      ],
      "window_display": false
    }
  },
  "nbformat": 4,
  "nbformat_minor": 0
}
